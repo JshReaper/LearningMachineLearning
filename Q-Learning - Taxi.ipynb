{
 "cells": [
  {
   "cell_type": "code",
   "execution_count": 10,
   "metadata": {},
   "outputs": [],
   "source": [
    "import gym\n",
    "import numpy as np\n",
    "import random\n",
    "from IPython.display import clear_output"
   ]
  },
  {
   "cell_type": "code",
   "execution_count": 11,
   "metadata": {},
   "outputs": [
    {
     "name": "stdout",
     "output_type": "stream",
     "text": [
      "+---------+\n",
      "|R: | : :G|\n",
      "| : : : :\u001b[43m \u001b[0m|\n",
      "| : : : : |\n",
      "| | : | : |\n",
      "|\u001b[34;1mY\u001b[0m| : |\u001b[35mB\u001b[0m: |\n",
      "+---------+\n",
      "\n"
     ]
    }
   ],
   "source": [
    "env = gym.make('Taxi-v2').env\n",
    "env.render()"
   ]
  },
  {
   "cell_type": "code",
   "execution_count": 12,
   "metadata": {},
   "outputs": [
    {
     "name": "stdout",
     "output_type": "stream",
     "text": [
      "+---------+\n",
      "|R: | : :G|\n",
      "| : : : : |\n",
      "| : : : :\u001b[43m \u001b[0m|\n",
      "| | : | : |\n",
      "|\u001b[34;1mY\u001b[0m| : |\u001b[35mB\u001b[0m: |\n",
      "+---------+\n",
      "\n",
      "Action Space Discrete(6)\n",
      "State Space Discrete(500)\n"
     ]
    }
   ],
   "source": [
    "env.reset()\n",
    "env.render()\n",
    "\n",
    "print('Action Space {}'.format(env.action_space))\n",
    "print('State Space {}'.format(env.observation_space))"
   ]
  },
  {
   "cell_type": "code",
   "execution_count": 13,
   "metadata": {},
   "outputs": [
    {
     "data": {
      "text/plain": [
       "array([[0., 0., 0., 0., 0., 0.],\n",
       "       [0., 0., 0., 0., 0., 0.],\n",
       "       [0., 0., 0., 0., 0., 0.],\n",
       "       ...,\n",
       "       [0., 0., 0., 0., 0., 0.],\n",
       "       [0., 0., 0., 0., 0., 0.],\n",
       "       [0., 0., 0., 0., 0., 0.]])"
      ]
     },
     "execution_count": 13,
     "metadata": {},
     "output_type": "execute_result"
    }
   ],
   "source": [
    "#intialize the Q-Table with Zeros \n",
    "q_table= np.zeros([env.observation_space.n,env.action_space.n])\n",
    "q_table"
   ]
  },
  {
   "cell_type": "code",
   "execution_count": 14,
   "metadata": {},
   "outputs": [],
   "source": [
    "#Hyparameters\n",
    "gamma  = 0.9\n",
    "alpha = 0.1 #learning rate\n",
    "\n",
    "episode = 10070"
   ]
  },
  {
   "cell_type": "code",
   "execution_count": 16,
   "metadata": {},
   "outputs": [
    {
     "name": "stdout",
     "output_type": "stream",
     "text": [
      "Episode: 10000\n"
     ]
    }
   ],
   "source": [
    "for i in range(1,episode):\n",
    "    state = env.reset()\n",
    "    done = False\n",
    "\n",
    "    while not done:\n",
    "\n",
    "        action = env.action_space.sample()\n",
    "        next_state,reward,done,info = env.step(action)\n",
    "\n",
    "        next_max = np.max(q_table[next_state])\n",
    "        q_table[state,action] =  q_table[state,action] + alpha * ( reward + gamma * next_max - q_table[state,action])\n",
    "        state = next_state\n",
    "    \n",
    "    if i%100==0:\n",
    "      clear_output(wait=True)\n",
    "      print('Episode: {}'.format(i))"
   ]
  },
  {
   "cell_type": "code",
   "execution_count": 17,
   "metadata": {},
   "outputs": [
    {
     "data": {
      "text/plain": [
       "array([[ 0.        ,  0.        ,  0.        ,  0.        ,  0.        ,\n",
       "         0.        ],\n",
       "       [ 1.62261467,  2.9140163 ,  1.62261467,  2.9140163 ,  4.348907  ,\n",
       "        -6.0859837 ],\n",
       "       [ 4.348907  ,  5.94323   ,  4.348907  ,  5.94323   ,  7.7147    ,\n",
       "        -3.05677   ],\n",
       "       ...,\n",
       "       [ 7.7147    ,  9.683     ,  7.7147    ,  5.94323   , -1.2853    ,\n",
       "        -1.2853    ],\n",
       "       [ 1.62261467,  2.9140163 ,  1.62261467,  2.9140163 , -7.37738533,\n",
       "        -7.37738533],\n",
       "       [14.3       , 11.87      , 14.3       , 17.        ,  5.3       ,\n",
       "         5.3       ]])"
      ]
     },
     "execution_count": 17,
     "metadata": {},
     "output_type": "execute_result"
    }
   ],
   "source": [
    "q_table"
   ]
  },
  {
   "cell_type": "code",
   "execution_count": 18,
   "metadata": {},
   "outputs": [
    {
     "name": "stdout",
     "output_type": "stream",
     "text": [
      "Results After 10070 episodes\n",
      "Average timestep per Episode :12.55253227408143\n",
      "Average Penalties per Episode : 0.0\n",
      "Average Rewards per Episode : 42471.1454816286\n"
     ]
    }
   ],
   "source": [
    "penalites,r = 0,0\n",
    "\n",
    "total_rewards, total_steps , total_penalities =0,0,0\n",
    "\n",
    "for _ in range(episode):\n",
    "    state = env.reset()\n",
    "    steps , penalties , reward = 0,0,0\n",
    "    \n",
    "    done = False\n",
    "    \n",
    "    while not done:\n",
    "        #env.render()\n",
    "        action = np.argmax(q_table[state])\n",
    "        state,reward,done,info = env.step(action)\n",
    "        \n",
    "        \n",
    "        if reward == -10:\n",
    "            penalites+=1\n",
    "        \n",
    "        r += reward\n",
    "        \n",
    "        steps+=1\n",
    "    \n",
    "    total_rewards+=r\n",
    "    total_steps+=steps\n",
    "    total_penalities+=penalites\n",
    "    \n",
    "    \n",
    "print('Results After {} episodes'.format(episode))\n",
    "print('Average timestep per Episode :{}'.format(total_steps/episode))\n",
    "print('Average Penalties per Episode : {}'.format(total_penalities/episode))\n",
    "print('Average Rewards per Episode : {}'.format(total_rewards/episode))"
   ]
  },
  {
   "cell_type": "code",
   "execution_count": null,
   "metadata": {},
   "outputs": [],
   "source": []
  }
 ],
 "metadata": {
  "kernelspec": {
   "display_name": "Python 3",
   "language": "python",
   "name": "python3"
  },
  "language_info": {
   "codemirror_mode": {
    "name": "ipython",
    "version": 3
   },
   "file_extension": ".py",
   "mimetype": "text/x-python",
   "name": "python",
   "nbconvert_exporter": "python",
   "pygments_lexer": "ipython3",
   "version": "3.6.8"
  }
 },
 "nbformat": 4,
 "nbformat_minor": 2
}

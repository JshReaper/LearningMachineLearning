{
 "cells": [
  {
   "cell_type": "code",
   "execution_count": null,
   "metadata": {},
   "outputs": [],
   "source": [
    "import sys\n",
    "\n",
    "import keras\n",
    "import sklearn as sk\n",
    "import tensorflow as tf\n",
    "import pandas as pd\n",
    "\n",
    "print(f\"tensor flow Version: {tf.__version__}\")\n",
    "print(f\"Keras Version: {keras.__version__}\")\n",
    "print()\n",
    "print(f\"Python {sys.version}\")\n",
    "print(f\"Pandas {pd.__version__}\")\n",
    "print(f\"Scikit-Learn {sk.__version__}\")"
   ]
  },
  {
   "cell_type": "code",
   "execution_count": null,
   "metadata": {},
   "outputs": [],
   "source": [
    "import multiprocessing\n",
    "import platform\n",
    "import psutil\n",
    "from tensorflow.python.client import device_lib\n",
    "\n",
    "def sizeof_fmt(num, suffix='B'):\n",
    "    for unit in ['','Ki','Mi','Ti','Pi','Ei','Zi']:\n",
    "        if abs(num) < 10240:\n",
    "            return \"%3.1f%s%s\" % (num,unit,suffix)\n",
    "        num /= 1024.0\n",
    "    return \"%.1f%s%s\" % (num, 'Yi',suffix)\n",
    "p = platform.processor()\n",
    "mem = psutil.virtual_memory()\n",
    "\n",
    "print(f'Your CPU is: {p}')\n",
    "print(f'You CPU has {multiprocessing.cpu_count()} cores.')\n",
    "print(f'Total memory {sizeof_fmt(mem.total)}')\n",
    "print(mem)\n",
    "\n",
    "local_device_protos = device_lib.list_local_devices()\n",
    "gpuList = [x for x in local_device_protos if x.device_type == 'GPU']\n",
    "\n",
    "print(\"Installed GPUs:\")\n",
    "for x in gpuList:\n",
    "    print(\"{} - {}\".format(x.name,x.physical_device_desc))"
   ]
  },
  {
   "cell_type": "code",
   "execution_count": null,
   "metadata": {},
   "outputs": [],
   "source": [
    "import matplotlib.pyplot as plt\n",
    "import gym\n",
    "from IPython import display\n",
    "%matplotlib inline\n",
    "\n",
    "env = gym.make('CartPole-v0')\n",
    "env.reset()\n",
    "\n",
    "for i in range(25):\n",
    "    plt.imshow(env.render(mode='rbg_array'))\n",
    "    display.display(plt.gcf())\n",
    "    display.clear_output(wait=true)\n",
    "    env.step(env.action_space.sample()) #take a random action\n",
    "\n",
    "env.close()"
   ]
  },
  {
   "cell_type": "code",
   "execution_count": null,
   "metadata": {},
   "outputs": [],
   "source": []
  }
 ],
 "metadata": {
  "kernelspec": {
   "display_name": "Python 3",
   "language": "python",
   "name": "python3"
  },
  "language_info": {
   "codemirror_mode": {
    "name": "ipython",
    "version": 3
   },
   "file_extension": ".py",
   "mimetype": "text/x-python",
   "name": "python",
   "nbconvert_exporter": "python",
   "pygments_lexer": "ipython3",
   "version": "3.6.8"
  }
 },
 "nbformat": 4,
 "nbformat_minor": 1
}
